{
 "cells": [
  {
   "cell_type": "code",
   "execution_count": null,
   "metadata": {
    "application/vnd.databricks.v1+cell": {
     "cellMetadata": {
      "byteLimit": 2048000,
      "rowLimit": 10000
     },
     "inputWidgets": {},
     "nuid": "24450607-4f8f-4e4d-9d4f-4ed366e178f7",
     "showTitle": false,
     "tableResultSettingsMap": {},
     "title": ""
    }
   },
   "outputs": [],
   "source": [
    "\n",
    "from datetime import datetime\n",
    "\n",
    "catalog_name = \"auto_geospatial\"\n",
    "schema_name = \"default_v6\"\n",
    "volume_name = \"data\"\n",
    "\n",
    "model_name = f\"{catalog_name}.{schema_name}.collision_prediction\"\n",
    "model_path = f\"/Volumes/{catalog_name}/{schema_name}/{volume_name}/models\"\n",
    "\n",
    "start_date = \"2024-01-01\"\n",
    "end_date = \"2024-12-31\"\n",
    "\n",
    "checkpoint_suffix = f\"_{datetime.now().strftime('%Y%m%d%H%M')}\"\n",
    "multi_node_route = True"
   ]
  },
  {
   "cell_type": "code",
   "execution_count": null,
   "metadata": {},
   "outputs": [],
   "source": [
    "\n",
    "def get_spark():\n",
    "  try:\n",
    "    #Get Default Spark Session \n",
    "    from pyspark.sql import SparkSession\n",
    "    return (SparkSession.builder.getOrCreate(), False)\n",
    "  \n",
    "  except:\n",
    "    #Try with Spark Connect if default fails\n",
    "    from databricks.connect import DatabricksSession\n",
    "    return (DatabricksSession.builder.getOrCreate(), True)\n",
    "\n",
    "spark,is_spark_connect = get_spark()\n"
   ]
  },
  {
   "cell_type": "markdown",
   "metadata": {},
   "source": [
    "Create Catalog, Schema, Table"
   ]
  },
  {
   "cell_type": "code",
   "execution_count": null,
   "metadata": {},
   "outputs": [],
   "source": [
    "# Check if catalog exists\n",
    "catalogs = [row.catalog for row in spark.sql(\"SHOW CATALOGS\").collect()]\n",
    "\n",
    "if catalog_name not in catalogs:\n",
    "    spark.sql(f\"CREATE CATALOG {catalog_name}\")\n",
    "\n",
    "spark.sql(f\"CREATE SCHEMA IF NOT EXISTS {catalog_name}.{schema_name}\")\n",
    "spark.sql(f\"CREATE VOLUME IF NOT EXISTS {catalog_name}.{schema_name}.{volume_name}\")"
   ]
  },
  {
   "cell_type": "markdown",
   "metadata": {},
   "source": [
    "Adjust Dashboard Queries with Defined Catalog. Schema"
   ]
  },
  {
   "cell_type": "code",
   "execution_count": null,
   "metadata": {},
   "outputs": [],
   "source": [
    "import glob\n",
    "\n",
    "\n",
    "try:\n",
    "    \n",
    "    # Target string to replace\n",
    "    original_ref = \"auto_geospatial.default_v3.\"\n",
    "    new_ref = f\"{catalog_name}.{schema_name}.\"\n",
    "\n",
    "\n",
    "    # Find all files starting with '3-Collision Analytics.'\n",
    "    matching_files = glob.glob(\"3-Collision Analytics.*\")\n",
    "\n",
    "    # Open the first matching file\n",
    "    if matching_files:\n",
    "        with open(matching_files[0], \"r\", encoding=\"utf-8\") as f:\n",
    "            content = f.read()\n",
    "    else:\n",
    "        raise FileNotFoundError(\"No file starting with '3-Collision Analytics.' was found.\")\n",
    "\n",
    "    # Replace all occurrences of the target string\n",
    "    updated_content = content.replace(original_ref, new_ref)\n",
    "\n",
    "    # Write the updated content back to the file\n",
    "    with open(matching_files[0], \"w\", encoding=\"utf-8\") as f:\n",
    "        f.write(updated_content)\n",
    "\n",
    "    print(f\"✅ Replaced '{original_ref}' with '{new_ref}' in {matching_files[0]}\")\n",
    "except Exception as e:\n",
    "    \n",
    "    print(f\"❌ Error trying to update dashboard file: {e}\")\n"
   ]
  }
 ],
 "metadata": {
  "application/vnd.databricks.v1+notebook": {
   "computePreferences": null,
   "dashboards": [],
   "environmentMetadata": {
    "base_environment": "",
    "environment_version": "2"
   },
   "language": "python",
   "notebookMetadata": {
    "mostRecentlyExecutedCommandWithImplicitDF": {
     "commandId": 3545095998802160,
     "dataframes": [
      "_sqldf"
     ]
    },
    "pythonIndentUnit": 2
   },
   "notebookName": "Config",
   "widgets": {}
  },
  "kernelspec": {
   "display_name": ".venv",
   "language": "python",
   "name": "python3"
  },
  "language_info": {
   "codemirror_mode": {
    "name": "ipython",
    "version": 3
   },
   "file_extension": ".py",
   "mimetype": "text/x-python",
   "name": "python",
   "nbconvert_exporter": "python",
   "pygments_lexer": "ipython3",
   "version": "3.12.9"
  }
 },
 "nbformat": 4,
 "nbformat_minor": 0
}
