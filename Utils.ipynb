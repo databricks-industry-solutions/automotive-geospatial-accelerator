{
 "cells": [
  {
   "cell_type": "code",
   "execution_count": 1,
   "metadata": {},
   "outputs": [],
   "source": [
    "import base64\n",
    "from IPython.display import Image, display\n",
    "\n",
    "def mm_ink(graphbytes):\n",
    "  \"\"\"Given a bytes object holding a Mermaid-format graph, return a URL that will generate the image.\"\"\"\n",
    "  base64_bytes = base64.b64encode(graphbytes)\n",
    "  base64_string = base64_bytes.decode(\"ascii\")\n",
    "  return \"https://mermaid.ink/img/\" + base64_string\n",
    "\n",
    "def mm_display(graphbytes):\n",
    "  \"\"\"Given a bytes object holding a Mermaid-format graph, display it.\"\"\"\n",
    "  display(Image(url=mm_ink(graphbytes)))\n",
    "\n",
    "def mm(graph):\n",
    "  \"\"\"Given a string containing a Mermaid-format graph, display it.\"\"\"\n",
    "  graphbytes = graph.encode(\"ascii\")\n",
    "  mm_display(graphbytes)\n",
    "\n",
    "def mm_link(graph):\n",
    "  \"\"\"Given a string containing a Mermaid-format graph, return URL for display.\"\"\"\n",
    "  graphbytes = graph.encode(\"ascii\")\n",
    "  return mm_ink(graphbytes)\n",
    "  \n",
    "def mm_path(path):\n",
    "  \"\"\"Given a path to a file containing a Mermaid-format graph, display it\"\"\"\n",
    "  with open(path, 'rb') as f:\n",
    "    graphbytes = f.read()\n",
    "  mm_display(graphbytes)"
   ]
  },
  {
   "cell_type": "code",
   "execution_count": null,
   "metadata": {
    "vscode": {
     "languageId": "ruby"
    }
   },
   "outputs": [],
   "source": [
    "def upload_file_to_volume(local_file_path: str, volume_folder_path: str, file_name: str) -> None:\n",
    "    \"\"\"Upload local file to the specified volume. .\"\"\"\n",
    "    \n",
    "    from databricks.sdk import WorkspaceClient\n",
    "    import io\n",
    "\n",
    "    # Initialize the WorkspaceClient\n",
    "    w = WorkspaceClient()\n",
    "\n",
    "    # Create an empty folder in the volume\n",
    "    w.files.create_directory(volume_folder_path)\n",
    "\n",
    "    volume_file_path = f\"{volume_folder_path}/{file_name}\"  # /Volumes/main/default/my-volume/my-folder/data.csv\n",
    "  \n",
    "    # Upload the file to the volume\n",
    "    with open(local_file_path, 'rb') as file:\n",
    "        file_bytes = file.read()\n",
    "        binary_data = io.BytesIO(file_bytes)\n",
    "        w.files.upload(volume_file_path, binary_data, overwrite=True)\n"
   ]
  },
  {
   "cell_type": "code",
   "execution_count": null,
   "metadata": {
    "vscode": {
     "languageId": "ruby"
    }
   },
   "outputs": [],
   "source": [
    "def generate_table_ddl (catalog: str, schema: str, table:str) -> str:\n",
    "\n",
    "    # Fetch table-level and column-level metadata\n",
    "    table_metadata = spark.sql(f\"\"\"\n",
    "        SELECT t.table_name, t.table_type, t.comment AS table_comment\n",
    "        FROM {catalog}.information_schema.tables t\n",
    "        WHERE t.table_schema = '{schema}' AND t.table_name = '{table}'\n",
    "    \"\"\").collect()[0]\n",
    "\n",
    "    columns_metadata = spark.sql(f\"\"\"\n",
    "        SELECT column_name, data_type, is_nullable, comment\n",
    "        FROM {catalog}.information_schema.columns\n",
    "        WHERE table_schema = '{schema}' AND table_name = '{table}'\n",
    "        ORDER BY ordinal_position\n",
    "    \"\"\").collect()\n",
    "\n",
    "    # Build CREATE TABLE statement\n",
    "    ddl = f\"CREATE TABLE {catalog}.{schema}.{table} (\\n\"\n",
    "    column_lines = []\n",
    "\n",
    "    for col in columns_metadata:\n",
    "        comment = f\" COMMENT '{col['comment']}'\" if col['comment'] else \"\"\n",
    "        nullable = \"\" if col['is_nullable'] == \"YES\" else \" NOT NULL\"\n",
    "        column_lines.append(f\"  {col['column_name']} {col['data_type']}{nullable}{comment}\")\n",
    "\n",
    "    ddl += \",\\n\".join(column_lines) + \"\\n)\"\n",
    "\n",
    "    # Add table comment if available\n",
    "    if table_metadata['table_comment']:\n",
    "        ddl += f\"\\nCOMMENT '{table_metadata['table_comment']}'\"\n",
    "\n",
    "    # Add table type (optional)\n",
    "    ddl += f\"\\n-- Table Type: {table_metadata['table_type']}\"\n",
    "\n",
    "    # Output the generated DDL\n",
    "    return ddl"
   ]
  },
  {
   "cell_type": "code",
   "execution_count": 19,
   "metadata": {
    "vscode": {
     "languageId": "ruby"
    }
   },
   "outputs": [],
   "source": [
    "\n",
    "import logging\n",
    "\n",
    "# Create a module‐level logger\n",
    "logger = logging.getLogger(__name__)\n",
    "logger.setLevel(logging.INFO)\n",
    "\n",
    "# (Optional) add a handler if you need custom formatting or\n",
    "# want to write to a file rather than stdout/stderr:\n",
    "handler = logging.StreamHandler()\n",
    "formatter = logging.Formatter(\n",
    "    \"%(asctime)s %(levelname)s %(name)s %(message)s\"\n",
    ")\n",
    "handler.setFormatter(formatter)\n",
    "logger.addHandler(handler)\n"
   ]
  }
 ],
 "metadata": {
  "kernelspec": {
   "display_name": ".venv",
   "language": "python",
   "name": "python3"
  },
  "language_info": {
   "codemirror_mode": {
    "name": "ipython",
    "version": 3
   },
   "file_extension": ".py",
   "mimetype": "text/x-python",
   "name": "python",
   "nbconvert_exporter": "python",
   "pygments_lexer": "ipython3",
   "version": "3.12.9"
  }
 },
 "nbformat": 4,
 "nbformat_minor": 2
}
